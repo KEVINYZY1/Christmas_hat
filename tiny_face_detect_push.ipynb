{
 "cells": [
  {
   "cell_type": "markdown",
   "metadata": {},
   "source": [
    "# <center>小人脸检测 - Finding Tiny Faces</center>\n",
    "代码地址:https://github.com/peiyunh/tiny<br>\n",
    "环境:MATLAB MatConvNet<br>\n",
    "论文地址:https://arxiv.org/pdf/1612.04402.pdf"
   ]
  },
  {
   "cell_type": "markdown",
   "metadata": {},
   "source": [
    "![avatar](./tiny_face_img/selfie.png)<br>"
   ]
  },
  {
   "cell_type": "markdown",
   "metadata": {},
   "source": [
    "### 安装环境"
   ]
  },
  {
   "cell_type": "markdown",
   "metadata": {},
   "source": [
    "步骤一:<br>\n",
    "git clone --recursive git@github.com:peiyunh/tiny.git<br>\n",
    "出现了错误:<br>\n",
    "\n",
    "    正克隆到 'tiny'...\n",
    "    Permission denied (publickey).\n",
    "    fatal: Could not read from remote repository.\n",
    "    Please make sure you have the correct access rights\n",
    "    and the repository exists.\n",
    "解决办法:\n",
    "\n",
    "    $ ssh-keygen -t rsa -C \"1010004295@qq.com\"\n",
    "    出现如下:\n",
    "    Generating public/private rsa key pair.\n",
    "    Enter file in which to save the key (/home/hutao/.ssh/id_rsa): 输入:/home/hutao/.ssh/id_rsa_1(要不然覆盖之前的,最好是新建一个路径文件)\n",
    "    Enter passphrase (empty for no passphrase):(直接按enter)\n",
    "    Enter same passphrase again:(也是直接enter)\n",
    "    出现如下:\n",
    "    Your identification has been saved in /home/hutao/.ssh/id_rsa_1.\n",
    "    Your public key has been saved in /home/hutao/.ssh/id_rsa_1.pub.\n",
    "    The key fingerprint is:\n",
    "    SHA256:XI5bJl+BR33cPuMJwFH+wCdWsL+rCp0eV8VZA69gvY8 1010004295@qq.com\n",
    "    The key's randomart image is:\n",
    "    +---[RSA 2048]----+\n",
    "    |          ..+=o+o|\n",
    "    |           =+ =.B|\n",
    "    |          oo+O *o|\n",
    "    |       . +..ooOoo|\n",
    "    |        S + .oo++|\n",
    "    |         *... +o.|\n",
    "    |        ...+ E o |\n",
    "    |          o o   .|\n",
    "    |           o.... |\n",
    "    +----[SHA256]-----+\n",
    "    \n",
    "     打开刚刚生成的key:\n",
    "     $ cat .ssh/id_rsa_1.pub\n",
    "     出现如下:\n",
    "ssh-rsa AAAAB3NzaC1yc2EAAAADAQABAAABAQCbnpYGXF6cAllmlxdXcE4awFuuVbL0iTyfwig7ZdyUX/6zS3Qy6L96EfsLk9g5C5OCWVoxwFMzCfghUJXjmjLnz/qkeoQo1kw9wMJfbWxYNQDwlwZb3TaFW409BdsKse225OnfIKIVw67KoGH2Fh4/kDNTo/k1TT7wpMlE1juvI6AQ2fpw67JnjkPeDRAEdKQb4XYNJPB0hZgGkpWfF9iq0iM3BWB7ZYAVW15/9ruadzFOzUjTkYE5fXBPbWwR3BQq5kcy//+Hh0EQ3Us1Xn1DdFxUaJV28S7vUHJfku/Zj96MPEZeoVwUfMuHs6Cq0hfZx5BA9GkR4+LmQZmJOhBx 1010004295@qq.com\n",
    "    \n",
    "    将生成的key复制到自己的github上的SSH keys即可:\n",
    "![avatar](./tiny_face_img/1.png)<br>         \n",
    "再次git clone --recursive git@github.com:peiyunh/tiny.git 会出现:\n",
    "\n",
    "    子模组 'matconvnet' (https://github.com/peiyunh/matconvnet.git) 未对路径 'matconvnet' 注册\n",
    "    子模组 'toolbox/export_fig' (https://github.com/altmany/export_fig.git) 未对路径 'toolbox/export_fig' 注册\n",
    "    那是因为递归操作下载,不行的话,按照手动下载到相应的文件夹路径也是一样的;"
   ]
  },
  {
   "cell_type": "markdown",
   "metadata": {},
   "source": [
    "步骤二:在MATLABcommand下<br>\n",
    "\n",
    "    >>cd matconvnet/\n",
    "    >>addpath matlab/\n",
    "    \n",
    "    >>vl_compilenn('enableImreadJpeg', true, 'enableGpu', true, 'cudaRoot', [cuda_dir],...\n",
    "                'cudaMethod', 'nvcc', 'enableCudnn', true, 'cudnnRoot', [cudnn_dir]);\n",
    "    这里的cuda_dir和cudnn_dir为你要填的路径;我的是:\n",
    "    >>vl_compilenn('enableImreadJpeg', true, 'enableGpu', true, 'cudaRoot', ['/usr/local/cuda-8.0'],...\n",
    "                'cudaMethod', 'nvcc', 'enableCudnn', true, 'cudnnRoot', ['/usr/local/cuda-8.0']);\n",
    "    发现还是出错如下:\n",
    "        错误使用 vl_compilenn>nvcc_compile (line 536) Command \"/usr/local/cuda-8.0/bin/nvcc\" -c \"/home/hutao/huta/tiny/matconvnet/matlab/src/bits/impl/nnconv_cudnn.cu\" -DNDEBUG -DENABLE_GPU\n",
    "    分析:应该是cuda的问题,或许是版本问题;但是仔细打开vl_compilenn.m文件,发现如果不指定cuda的路径(有可能CUDA路径出错),MATLAB也会有默认的CUDA路径;所以我不需要指定cuda的路径;\n",
    "    >>vl_compilenn('enableImreadJpeg', true, 'enableGpu', true, ...\n",
    "                'cudaMethod', 'nvcc', 'enableCudnn', true);\n",
    "    忽视警告;直至编译成功;\n",
    "    \n",
    "    >> vl_testnn('gpu', true);  % vl_testnn('gpu', false) for cpu-only,漫长等待完成如下:\n",
    "        result = \n",
    "\n",
    "      1x3322TestResult 数组(具有属性):\n",
    "\n",
    "        Name\n",
    "        Passed\n",
    "        Failed\n",
    "        Incomplete\n",
    "        Duration\n",
    "\n",
    "    总计:\n",
    "       3020 Passed, 302 Failed, 302 Incomplete.\n",
    "       1087.1901 秒测试时间。"
   ]
  },
  {
   "cell_type": "markdown",
   "metadata": {},
   "source": [
    "步骤三:Compile our MEX function in MATLAB and test if it works as expected:\n",
    "\n",
    "    >> cd utils/;(而不是matconvnet/utils)\n",
    "    >> compile_mex;\n",
    "    >> test_compute_dense_overlap;"
   ]
  },
  {
   "cell_type": "markdown",
   "metadata": {},
   "source": [
    "步骤四:Download WIDER FACE and unzip data and annotation files to data/widerface such that:\n",
    "   \n",
    "    $ ls data/widerface\n",
    "    wider_face_test.mat   wider_face_train.mat    wider_face_val.mat\n",
    "    WIDER_test/           WIDER_train/            WIDER_val/\n",
    "\n"
   ]
  },
  {
   "cell_type": "markdown",
   "metadata": {},
   "source": [
    "步骤五:Download pretrained model,下载预训练模型:\n",
    "    \n",
    "    ResNet101\n",
    "    ResNet50\n",
    "    VGG16\n",
    "    在tiny文件夹下新建一个文件夹:trained_models,将下载好的预训练模型放在复制到trained_models文件夹下;"
   ]
  },
  {
   "cell_type": "markdown",
   "metadata": {},
   "source": [
    "### Demo\n",
    "\n",
    "    We provide a minimal demo tiny_face_detector.m that runs our detector on an single input image and output face detections:\n",
    "    \n",
    "    function bboxes = tiny_face_detector(image_path, output_path, prob_thresh, nms_thresh, gpu_id)\n",
    "    比如:\n",
    "    >> bboxes = tiny_face_detector('data/demo/selfie.jpg', './selfie.png', 0.5, 0.1, 0)\n"
   ]
  },
  {
   "cell_type": "markdown",
   "metadata": {},
   "source": [
    "效果如下:<br>\n",
    "侧脸毫无违和感:\n",
    "![avatar](./tiny_face_img/5A077C05563232FBE58F427E71290207.png)<br>\n",
    "几个人明星素颜很赞:\n",
    "![avatar](./tiny_face_img/20161206054119247.png)<br>\n",
    "班级开会严肃的样子很直观:\n",
    "![avatar](./tiny_face_img/DSC_9358.png)<br>\n",
    "我想说再一次被震撼到!!!\n",
    "![avatar](./tiny_face_img/timg.png)<br>\n"
   ]
  },
  {
   "cell_type": "markdown",
   "metadata": {},
   "source": [
    "### Train训练自己的数据\n",
    "(尽管作者只有训练自己的人脸检测数据)如果这样效果检测应用到遥感目标舰船检测上去,针对小目标和密集型目标;效果我相信会萌萌哒!!!"
   ]
  },
  {
   "cell_type": "markdown",
   "metadata": {},
   "source": [
    "#### 一:训练给定的数据集"
   ]
  },
  {
   "cell_type": "markdown",
   "metadata": {},
   "source": [
    "To train a ResNet101-based Tiny Face Detector, run following command in MATLAB:\n",
    "    >> hr_res101('train');           % which calls cnn_widerface.m"
   ]
  },
  {
   "cell_type": "markdown",
   "metadata": {
    "collapsed": true
   },
   "source": [
    "将gpus = [1 2 3 4]改为%gpus = [1];因为只有一张显卡;<br>\n",
    "但是显示出错如下:<br>\n",
    "\n",
    "    train: epoch 01:   1/1074:错误使用 vl_nnconv\n",
    "        forward: cuDNN error [cudnn: \"/home/hutao/hutao/tiny/matconvnet/matlab/src/bits/impl/nnconv_cudnn.cu\":141(CUDNN_STATUS_BAD_PARAM)]\n",
    "        "
   ]
  },
  {
   "cell_type": "markdown",
   "metadata": {
    "collapsed": true
   },
   "source": [
    "网上有两个相应的参考链接,但是还是没怎么看懂;<br>\n",
    "    https://github.com/vlfeat/matconvnet/issues/132<br>\n",
    "    https://github.com/vlfeat/matconvnet/issues/1022<br>\n",
    "意思提到不要用cudnn;所以我先编译的时候不选择cudnn编译,改为false,重复之前的步骤如下:<br>\n",
    "\n",
    "    vl_compilenn('enableImreadJpeg', true, 'enableGpu', true, ...\n",
    "                'cudaMethod', 'nvcc', 'enableCudnn', false);\n",
    "                \n",
    "    1x3322TestResult 数组(具有属性):\n",
    "\n",
    "    Name\n",
    "    Passed\n",
    "    Failed\n",
    "    Incomplete\n",
    "    Duration\n",
    "\n",
    "    总计:\n",
    "       3322 Passed, 0 Failed, 0 Incomplete.\n",
    "       1014.1757 秒测试时间。"
   ]
  },
  {
   "cell_type": "markdown",
   "metadata": {},
   "source": [
    "编译完毕,再执行后面额步骤,然后又开始测试:\n",
    "\n",
    "    >> bboxes = tiny_face_detector('data/demo/selfie.jpg', './selfie.png', 0.5, 0.1, 0)出错,又得改回:\n",
    "    >> bboxes = tiny_face_detector('data/demo/selfie.jpg', './selfie.png', 0.5, 0.1, 1)\n",
    "    才能测试成功.\n",
    "    \n",
    "    >> addpath scripts\n",
    "    >> hr_res101('train');           % which calls cnn_widerface.m\n",
    "再次出错:\n",
    "\n",
    "    train: epoch 01:   1/1074:错误使用 gpuArray/max\n",
    "    Out of memory on device. To view more detail about available memory on the GPU, use 'gpuDevice()'. If the problem persists, reset the GPU\n",
    "    by calling 'gpuDevice(1)'.\n",
    "将batch_size改小,从12改为6,(调到8最合适)再次运行;<br>\n",
    "![avatar](./tiny_face_img/name.jpg)\n",
    "查看显卡情况:(正在运行,说明训练正常)<br>\n",
    "<img src=\"./tiny_face_img/name1.png\" align='left'></img><br>  "
   ]
  },
  {
   "cell_type": "markdown",
   "metadata": {},
   "source": [
    "        训练好的model放在/home/hutao/hutao/tiny/models/widerface-resnet-101-simple-sample256-posfrac0.5-N25-bboxreg-cluster-scaled文件夹下;这样就可以用该模型预测了,效果和原来的model效果差不多. "
   ]
  }
 ],
 "metadata": {
  "kernelspec": {
   "display_name": "Python 3",
   "language": "python",
   "name": "python3"
  },
  "language_info": {
   "codemirror_mode": {
    "name": "ipython",
    "version": 3
   },
   "file_extension": ".py",
   "mimetype": "text/x-python",
   "name": "python",
   "nbconvert_exporter": "python",
   "pygments_lexer": "ipython3",
   "version": "3.6.0"
  }
 },
 "nbformat": 4,
 "nbformat_minor": 2
}
